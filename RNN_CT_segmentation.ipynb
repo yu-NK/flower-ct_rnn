{
 "cells": [
  {
   "cell_type": "code",
   "execution_count": null,
   "metadata": {},
   "outputs": [],
   "source": [
    "#jenna forecasting をCT 画像で置き換えてみよう。\n",
    "#サーキット（細線）の上を辿って、その周りのパッチ（例えば32*32画素）をベクトルとして入力として\n",
    "#出力も同じパッチを表すベクトルにする。\n",
    "#入力は０〜２５５の整数値のまま要素にするか、０から１の範囲に正規化する。\n",
    "#出力の各要素はそれぞれの画素が中心（現時点でのサーキットの位置）と同じクラスに属する場合は１\n",
    "#属さない場合は０にする。\n",
    "\n",
    "import keras\n",
    "keras.__version__"
   ]
  },
  {
   "cell_type": "code",
   "execution_count": null,
   "metadata": {},
   "outputs": [],
   "source": [
    "import os\n",
    "\n",
    "csv_path = '/Users/tamurataito/Documents/datasets/jena_climate_2009_2016.csv'\n",
    "\n",
    "\n",
    "f = open(csv_path)\n",
    "data = f.read()\n",
    "f.close()\n",
    "\n",
    "lines = data.split('\\n')\n",
    "header = lines[0].split(',')\n",
    "lines = lines[1:]\n",
    "\n",
    "float_data = np.zeros((len(lines), len(header) - 1))\n",
    "for i, line in enumerate(lines):\n",
    "    values = [float(x) for x in line.split(',')[1:]]\n",
    "    float_data[i, :] = values"
   ]
  },
  {
   "cell_type": "code",
   "execution_count": null,
   "metadata": {},
   "outputs": [],
   "source": [
    "#現時点でのサーキットの位置を中心とする周りのパッチをsamples\n",
    "#そのパッチをクラス分けした結果のパッチをtargetsとして配列を返すgeneratorをつくる。\n",
    "#ただし、パッチの大きさは花弁の分岐点が全ておさまる程度の大きさにする。\n",
    "#パッチが画像の端に達した場合の処理も考える。\n",
    "#サーキットのスタート地点を適当に選んでnumber_of_steps_on_circuitだけ進む過程での\n",
    "#周りのパッチの情報をtargetsとしてかえす。\n",
    "\n",
    "def generator(batch_size, number_of_steps_on_circuit, batch_dim):\n",
    "\n",
    "        yield samples, targets"
   ]
  },
  {
   "cell_type": "code",
   "execution_count": null,
   "metadata": {},
   "outputs": [],
   "source": []
  },
  {
   "cell_type": "code",
   "execution_count": null,
   "metadata": {},
   "outputs": [],
   "source": [
    "# jenna forecastingの場合の入力は以下の通り\n",
    "temp_input = next(train_gen)\n",
    "temp_input[0].shape"
   ]
  },
  {
   "cell_type": "code",
   "execution_count": null,
   "metadata": {},
   "outputs": [],
   "source": [
    "#CTセグメンテーションの場合は入力を\n",
    "#(batch_size, number_of_steps_on_circuit, batch_dim)\n",
    "#にする。\n",
    "\n",
    "lookback = 1440\n",
    "step = 6\n",
    "delay = 144\n",
    "batch_size = 128\n",
    "\n",
    "train_gen = generator(batch_size=batch_size,\n",
    "                      number_of_steps_on_circuit,\n",
    "                      batch_dim)\n",
    "val_gen = generator(batch_size=batch_size,\n",
    "                      number_of_steps_on_circuit,\n",
    "                      batch_dim)\n",
    "test_gen = generator(batch_size=batch_size,\n",
    "                      number_of_steps_on_circuit,\n",
    "                      batch_dim)\n",
    "\n",
    "        \n",
    "# This is how many steps to draw from `val_gen`\n",
    "# in order to see the whole validation set:\n",
    "val_steps = (300000 - 200001 - lookback) // batch_size\n",
    "\n",
    "# This is how many steps to draw from `test_gen`\n",
    "# in order to see the whole test set:\n",
    "test_steps = (len(float_data) - 300001 - lookback) // batch_size"
   ]
  },
  {
   "cell_type": "code",
   "execution_count": null,
   "metadata": {},
   "outputs": [],
   "source": [
    "temp_input[1].shape"
   ]
  },
  {
   "cell_type": "code",
   "execution_count": null,
   "metadata": {},
   "outputs": [],
   "source": [
    "from keras.models import Sequential\n",
    "from keras import layers\n",
    "from keras.optimizers import Adam\n",
    "\n",
    "patch_dim = 32*32 #パッチをベクトルに引き伸ばした時の次元\n",
    "intermediate_dim = 1024 #中間層の次元（任意）\n",
    "\n",
    "\n",
    "model = Sequential()\n",
    "model.add(layers.LSTM(intermediate_dim,\n",
    "                     dropout=0.1,\n",
    "                     recurrent_dropout=0.5,\n",
    "                     return_sequences=True,\n",
    "                     input_shape=(None, patch_dim)))\n",
    "\n",
    "model.add(layers.Dense(patch_dim))\n",
    "\n",
    "model.compile(optimizer=Adam(), loss='mae')"
   ]
  },
  {
   "cell_type": "code",
   "execution_count": 1,
   "metadata": {},
   "outputs": [
    {
     "ename": "NameError",
     "evalue": "name 'model' is not defined",
     "output_type": "error",
     "traceback": [
      "\u001b[0;31m---------------------------------------------------------------------------\u001b[0m",
      "\u001b[0;31mNameError\u001b[0m                                 Traceback (most recent call last)",
      "\u001b[0;32m<ipython-input-1-5f15418b3570>\u001b[0m in \u001b[0;36m<module>\u001b[0;34m\u001b[0m\n\u001b[0;32m----> 1\u001b[0;31m \u001b[0mmodel\u001b[0m\u001b[0;34m.\u001b[0m\u001b[0msummary\u001b[0m\u001b[0;34m(\u001b[0m\u001b[0;34m)\u001b[0m\u001b[0;34m\u001b[0m\u001b[0;34m\u001b[0m\u001b[0m\n\u001b[0m",
      "\u001b[0;31mNameError\u001b[0m: name 'model' is not defined"
     ]
    }
   ],
   "source": [
    "model.summary()"
   ]
  },
  {
   "cell_type": "code",
   "execution_count": null,
   "metadata": {},
   "outputs": [],
   "source": [
    "history = model.fit_generator(train_gen,\n",
    "                              steps_per_epoch=500,\n",
    "                              epochs=40,\n",
    "                              validation_data=val_gen,\n",
    "                              validation_steps=val_steps)"
   ]
  },
  {
   "cell_type": "code",
   "execution_count": null,
   "metadata": {},
   "outputs": [],
   "source": []
  }
 ],
 "metadata": {
  "kernelspec": {
   "display_name": "Python 3",
   "language": "python",
   "name": "python3"
  },
  "language_info": {
   "codemirror_mode": {
    "name": "ipython",
    "version": 3
   },
   "file_extension": ".py",
   "mimetype": "text/x-python",
   "name": "python",
   "nbconvert_exporter": "python",
   "pygments_lexer": "ipython3",
   "version": "3.7.9"
  }
 },
 "nbformat": 4,
 "nbformat_minor": 4
}
