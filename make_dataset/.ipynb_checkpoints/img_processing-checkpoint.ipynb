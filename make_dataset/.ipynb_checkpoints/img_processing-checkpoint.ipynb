{
 "cells": [
  {
   "cell_type": "code",
   "execution_count": 1,
   "metadata": {},
   "outputs": [],
   "source": [
    "import cv2\n",
    "import numpy as np\n",
    "\n",
    "img01 = cv2.imread('../dataset/images/original/ORA-418.tif',0)\n",
    "img02 = cv2.imread('../dataset/images/original/ORA-535.tif',0)\n",
    "img03 = cv2.imread('../dataset/images/original/ORA-592.tif',0)\n",
    "img04 = cv2.imread('../dataset/images/original/ORA-613.tif',0)\n",
    "img05 = cv2.imread('../dataset/images/original/ORA-624.tif',0)\n",
    "img06 = cv2.imread('../dataset/images/original/ORA-658.tif',0)\n",
    "img07 = cv2.imread('../dataset/images/original/ORA-665.tif',0)\n",
    "img08 = cv2.imread('../dataset/images/original/ORA-673.tif',0)\n",
    "img09 = cv2.imread('../dataset/images/original/ORA-694.tif',0)\n",
    "img10 = cv2.imread('../dataset/images/original/ORA-700.tif',0)\n",
    "\n",
    "th_otsu01 = threshold_otsu(img01)\n",
    "th_otsu02 = threshold_otsu(img02)\n",
    "th_otsu03 = threshold_otsu(img03)\n",
    "th_otsu04 = threshold_otsu(img04)\n",
    "th_otsu05 = threshold_otsu(img05)\n",
    "th_otsu06 = threshold_otsu(img06)\n",
    "th_otsu07 = threshold_otsu(img07)\n",
    "th_otsu08 = threshold_otsu(img08)\n",
    "th_otsu09 = threshold_otsu(img09)\n",
    "th_otsu10 = threshold_otsu(img10)\n",
    "\n"
   ]
  }
 ],
 "metadata": {
  "kernelspec": {
   "display_name": "Python 3",
   "language": "python",
   "name": "python3"
  },
  "language_info": {
   "codemirror_mode": {
    "name": "ipython",
    "version": 3
   },
   "file_extension": ".py",
   "mimetype": "text/x-python",
   "name": "python",
   "nbconvert_exporter": "python",
   "pygments_lexer": "ipython3",
   "version": "3.7.9"
  }
 },
 "nbformat": 4,
 "nbformat_minor": 4
}
