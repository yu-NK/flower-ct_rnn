{
 "cells": [
  {
   "cell_type": "code",
   "execution_count": 3,
   "metadata": {},
   "outputs": [
    {
     "name": "stdout",
     "output_type": "stream",
     "text": [
      "No.418を処理中...\n",
      "No.535を処理中...\n",
      "No.592を処理中...\n",
      "No.613を処理中...\n",
      "No.624を処理中...\n",
      "No.658を処理中...\n",
      "No.665を処理中...\n",
      "No.673を処理中...\n",
      "No.694を処理中...\n",
      "No.700を処理中...\n"
     ]
    }
   ],
   "source": [
    "import cv2\n",
    "import numpy as np\n",
    "\n",
    "for img_num in [418,535,592,613,624,658,665,673,694,700]:\n",
    "    print('No.{0:03}を処理中...'.format(img_num))\n",
    "    \n",
    "    thin_img = cv2.imread(\"../datasets/thin/images/thin_ORA-{0:03d}.png\".format(img_num),0)\n",
    "    ori_mask = cv2.imread(\"../datasets/original/masks/ORA-{0:03d}_mask.png\".format(img_num),0)\n",
    "\n",
    "    height, width = thin_img.shape\n",
    "    \n",
    "    thin_mask = np.zeros((height,width), dtype = int)\n",
    "    \n",
    "    for y in range(0,height-1):\n",
    "        for x in range(0,width-1):\n",
    "            if(thin_img[y,x]>0):\n",
    "                thin_mask[y,x] = ori_mask[y,x]\n",
    "                \n",
    "    cv2.imwrite('../datasets/thin/masks/thin_ORA-{0:03d}_mask.png'.format(img_num),thin_mask)\n",
    "                "
   ]
  },
  {
   "cell_type": "code",
   "execution_count": null,
   "metadata": {},
   "outputs": [],
   "source": []
  }
 ],
 "metadata": {
  "kernelspec": {
   "display_name": "Python 3",
   "language": "python",
   "name": "python3"
  },
  "language_info": {
   "codemirror_mode": {
    "name": "ipython",
    "version": 3
   },
   "file_extension": ".py",
   "mimetype": "text/x-python",
   "name": "python",
   "nbconvert_exporter": "python",
   "pygments_lexer": "ipython3",
   "version": "3.7.9"
  }
 },
 "nbformat": 4,
 "nbformat_minor": 4
}
