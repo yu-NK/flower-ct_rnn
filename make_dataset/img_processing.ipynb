{
 "cells": [
  {
   "cell_type": "code",
   "execution_count": 3,
   "metadata": {},
   "outputs": [
    {
     "data": {
      "text/plain": [
       "True"
      ]
     },
     "execution_count": 3,
     "metadata": {},
     "output_type": "execute_result"
    }
   ],
   "source": [
    "import cv2\n",
    "import numpy as np\n",
    "\n",
    "#画像読み込み\n",
    "img01 = cv2.imread('../datasets/images/original/ORA-418.tif',0)\n",
    "img02 = cv2.imread('../datasets/images/original/ORA-535.tif',0)\n",
    "img03 = cv2.imread('../datasets/images/original/ORA-592.tif',0)\n",
    "img04 = cv2.imread('../datasets/images/original/ORA-613.tif',0)\n",
    "img05 = cv2.imread('../datasets/images/original/ORA-624.tif',0)\n",
    "img06 = cv2.imread('../datasets/images/original/ORA-658.tif',0)\n",
    "img07 = cv2.imread('../datasets/images/original/ORA-665.tif',0)\n",
    "img08 = cv2.imread('../datasets/images/original/ORA-673.tif',0)\n",
    "img09 = cv2.imread('../datasets/images/original/ORA-694.tif',0)\n",
    "img10 = cv2.imread('../datasets/images/original/ORA-700.tif',0)\n",
    "\n",
    "#大津法による2値化\n",
    "ret01, bin01 = cv2.threshold(img01, 0, 255, cv2.THRESH_OTSU)\n",
    "ret02, bin02 = cv2.threshold(img02, 0, 255, cv2.THRESH_OTSU)\n",
    "ret03, bin03 = cv2.threshold(img03, 0, 255, cv2.THRESH_OTSU)\n",
    "ret04, bin04 = cv2.threshold(img04, 0, 255, cv2.THRESH_OTSU)\n",
    "ret05, bin05 = cv2.threshold(img05, 0, 255, cv2.THRESH_OTSU)\n",
    "ret06, bin06 = cv2.threshold(img06, 0, 255, cv2.THRESH_OTSU)\n",
    "ret07, bin07 = cv2.threshold(img07, 0, 255, cv2.THRESH_OTSU)\n",
    "ret08, bin08 = cv2.threshold(img08, 0, 255, cv2.THRESH_OTSU)\n",
    "ret09, bin09 = cv2.threshold(img09, 0, 255, cv2.THRESH_OTSU)\n",
    "ret10, bin10 = cv2.threshold(img10, 0, 255, cv2.THRESH_OTSU)\n",
    "\n",
    "cv2.imwrite(\"../datasets/images/binary/bin_ORA-418.png\",bin01)\n",
    "cv2.imwrite(\"../datasets/images/binary/bin_ORA-535.png\",bin02)\n",
    "cv2.imwrite(\"../datasets/images/binary/bin_ORA-592.png\",bin03)\n",
    "cv2.imwrite(\"../datasets/images/binary/bin_ORA-613.png\",bin04)\n",
    "cv2.imwrite(\"../datasets/images/binary/bin_ORA-624.png\",bin05)\n",
    "cv2.imwrite(\"../datasets/images/binary/bin_ORA-658.png\",bin06)\n",
    "cv2.imwrite(\"../datasets/images/binary/bin_ORA-665.png\",bin07)\n",
    "cv2.imwrite(\"../datasets/images/binary/bin_ORA-673.png\",bin08)\n",
    "cv2.imwrite(\"../datasets/images/binary/bin_ORA-694.png\",bin09)\n",
    "cv2.imwrite(\"../datasets/images/binary/bin_ORA-700.png\",bin10)\n",
    "\n",
    "#スケルトン化画像\n",
    "skel０１ = cv2.ximgproc.thinning(bin01, thinningType=cv2.ximgproc.THINNING_ZHANGSUEN)\n",
    "skel０2 = cv2.ximgproc.thinning(bin02, thinningType=cv2.ximgproc.THINNING_ZHANGSUEN)\n",
    "skel０3 = cv2.ximgproc.thinning(bin03, thinningType=cv2.ximgproc.THINNING_ZHANGSUEN)\n",
    "skel０4 = cv2.ximgproc.thinning(bin04, thinningType=cv2.ximgproc.THINNING_ZHANGSUEN)\n",
    "skel０5 = cv2.ximgproc.thinning(bin05, thinningType=cv2.ximgproc.THINNING_ZHANGSUEN)\n",
    "skel０6 = cv2.ximgproc.thinning(bin06, thinningType=cv2.ximgproc.THINNING_ZHANGSUEN)\n",
    "skel０7 = cv2.ximgproc.thinning(bin07, thinningType=cv2.ximgproc.THINNING_ZHANGSUEN)\n",
    "skel０8 = cv2.ximgproc.thinning(bin08, thinningType=cv2.ximgproc.THINNING_ZHANGSUEN)\n",
    "skel０9 = cv2.ximgproc.thinning(bin09, thinningType=cv2.ximgproc.THINNING_ZHANGSUEN)\n",
    "skel10 = cv2.ximgproc.thinning(bin10, thinningType=cv2.ximgproc.THINNING_ZHANGSUEN)\n",
    "\n",
    "cv2.imwrite(\"../datasets/images/skeleton/skel_ORA-418.png\",skel01)\n",
    "cv2.imwrite(\"../datasets/images/skeleton/skel_ORA-535.png\",skel02)\n",
    "cv2.imwrite(\"../datasets/images/skeleton/skel_ORA-592.png\",skel03)\n",
    "cv2.imwrite(\"../datasets/images/skeleton/skel_ORA-613.png\",skel04)\n",
    "cv2.imwrite(\"../datasets/images/skeleton/skel_ORA-624.png\",skel05)\n",
    "cv2.imwrite(\"../datasets/images/skeleton/skel_ORA-658.png\",skel06)\n",
    "cv2.imwrite(\"../datasets/images/skeleton/skel_ORA-665.png\",skel07)\n",
    "cv2.imwrite(\"../datasets/images/skeleton/skel_ORA-673.png\",skel08)\n",
    "cv2.imwrite(\"../datasets/images/skeleton/skel_ORA-694.png\",skel09)\n",
    "cv2.imwrite(\"../datasets/images/skeleton/skel_ORA-700.png\",skel10)"
   ]
  },
  {
   "cell_type": "code",
   "execution_count": null,
   "metadata": {},
   "outputs": [],
   "source": []
  }
 ],
 "metadata": {
  "kernelspec": {
   "display_name": "Python 3",
   "language": "python",
   "name": "python3"
  },
  "language_info": {
   "codemirror_mode": {
    "name": "ipython",
    "version": 3
   },
   "file_extension": ".py",
   "mimetype": "text/x-python",
   "name": "python",
   "nbconvert_exporter": "python",
   "pygments_lexer": "ipython3",
   "version": "3.7.9"
  }
 },
 "nbformat": 4,
 "nbformat_minor": 4
}
